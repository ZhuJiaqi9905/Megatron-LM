{
 "cells": [
  {
   "cell_type": "markdown",
   "metadata": {},
   "source": [
    "根据A10G和L40S的结果，得到GPT2-6B在4096的sequence length之下的不均匀切分数据时候，能得到比均匀切分更好的结果。"
   ]
  },
  {
   "cell_type": "code",
   "execution_count": 1,
   "metadata": {},
   "outputs": [],
   "source": [
    "import torch \n",
    "import json\n",
    "from typing import Dict, List"
   ]
  },
  {
   "cell_type": "code",
   "execution_count": 2,
   "metadata": {},
   "outputs": [
    {
     "name": "stdout",
     "output_type": "stream",
     "text": [
      "{'A10G': {1: [36.14472167968749, 116.590263671875, 116.590263671875, 116.590263671875, 116.590263671875, 116.590263671875, 116.590263671875, 116.590263671875, 116.590263671875, 116.590263671875, 116.590263671875, 116.590263671875, 116.590263671875, 116.590263671875, 116.590263671875, 116.590263671875, 116.590263671875, 116.590263671875, 116.590263671875, 116.590263671875, 116.590263671875, 116.590263671875, 116.590263671875, 116.590263671875, 116.590263671875, 116.590263671875, 116.590263671875, 116.590263671875, 116.590263671875, 116.590263671875, 116.590263671875, 116.590263671875, 116.590263671875, 64.28416015625]}, 'L40S': {1: [11.615805053710938, 34.540380859375, 34.540380859375, 34.540380859375, 34.540380859375, 34.540380859375, 34.540380859375, 34.540380859375, 34.540380859375, 34.540380859375, 34.540380859375, 34.540380859375, 34.540380859375, 34.540380859375, 34.540380859375, 34.540380859375, 34.540380859375, 34.540380859375, 34.540380859375, 34.540380859375, 34.540380859375, 34.540380859375, 34.540380859375, 34.540380859375, 34.540380859375, 34.540380859375, 34.540380859375, 34.540380859375, 34.540380859375, 34.540380859375, 34.540380859375, 34.540380859375, 34.540380859375, 22.07373291015625]}}\n"
     ]
    }
   ],
   "source": [
    "# read data from file\n",
    "model_compute = {}\n",
    "for device in [\"A10G\", \"L40S\"]:\n",
    "    model_compute.setdefault(device, {})\n",
    "    for bs in [1]:\n",
    "        file = f\"../metis/GPT_2-6B/4096/DeviceType.{device}_tp2_bs{bs}.json\"\n",
    "        try:\n",
    "            with open(file, 'r') as f:\n",
    "                data = json.load(f)\n",
    "        except FileNotFoundError:\n",
    "            print(\"The file was not found.\")\n",
    "            exit()\n",
    "        except json.JSONDecodeError:\n",
    "            print(\"The file does not contain valid JSON.\")\n",
    "            exit()\n",
    "        model_compute[device][bs] = data[\"execution_time\"][\"layer_compute_total_ms\"]\n",
    "\n",
    "print(model_compute)\n",
    "    "
   ]
  },
  {
   "cell_type": "code",
   "execution_count": 9,
   "metadata": {},
   "outputs": [
    {
     "name": "stdout",
     "output_type": "stream",
     "text": [
      "A10G: [36.14472167968749, 116.590263671875, 116.590263671875, 116.590263671875, 116.590263671875, 116.590263671875, 116.590263671875, 116.590263671875, 116.590263671875, 116.590263671875, 116.590263671875, 116.590263671875, 116.590263671875, 116.590263671875, 116.590263671875, 116.590263671875, 116.590263671875, 116.590263671875, 116.590263671875, 116.590263671875, 116.590263671875, 116.590263671875, 116.590263671875, 116.590263671875, 116.590263671875, 116.590263671875, 116.590263671875, 116.590263671875, 116.590263671875, 116.590263671875, 116.590263671875, 116.590263671875, 116.590263671875, 64.28416015625]\n",
      "L40S: [11.615805053710938, 34.540380859375, 34.540380859375, 34.540380859375, 34.540380859375, 34.540380859375, 34.540380859375, 34.540380859375, 34.540380859375, 34.540380859375, 34.540380859375, 34.540380859375, 34.540380859375, 34.540380859375, 34.540380859375, 34.540380859375, 34.540380859375, 34.540380859375, 34.540380859375, 34.540380859375, 34.540380859375, 34.540380859375, 34.540380859375, 34.540380859375, 34.540380859375, 34.540380859375, 34.540380859375, 34.540380859375, 34.540380859375, 34.540380859375, 34.540380859375, 34.540380859375, 34.540380859375, 22.07373291015625]\n",
      "num_layers: 34\n",
      "balance: [564.2618988037108, 1929.7283789062492], imbalance: [806.0445648193356, 1113.5965332031246]\n"
     ]
    }
   ],
   "source": [
    "print(f\"A10G: {model_compute['A10G'][1]}\")\n",
    "num_layers = len(model_compute['A10G'][1])\n",
    "print(f\"L40S: {model_compute['L40S'][1]}\")\n",
    "print(f\"num_layers: {num_layers}\")\n",
    "\n",
    "balance_stage_time = [sum(model_compute['L40S'][1][ : num_layers // 2]), sum(model_compute['A10G'][1][num_layers // 2 : ])]\n",
    "\n",
    "imbalance_stage_time = [sum(model_compute['L40S'][1][ : num_layers // 4 * 3]), sum(model_compute['A10G'][1][num_layers // 4 * 3: ])]\n",
    "print(f\"balance: {balance_stage_time}, imbalance: {imbalance_stage_time}\")\n"
   ]
  },
  {
   "cell_type": "code",
   "execution_count": 10,
   "metadata": {},
   "outputs": [],
   "source": [
    "def pp_iteration_time(stage_time_ms:List[float], nums_of_mbs: int) -> float:\n",
    "    '''\n",
    "    Unit in s.\n",
    "    '''\n",
    "    \n",
    "    bottle_stage_time = max(stage_time_ms)\n",
    "    bottle_stage = stage_time_ms.index(bottle_stage_time) \n",
    "    \n",
    "    num_stages = len(stage_time_ms)\n",
    "    steady_time = (nums_of_mbs - num_stages + bottle_stage) * bottle_stage_time + (num_stages - bottle_stage - 1) * (2 * bottle_stage_time / 3)\n",
    "    total_time = steady_time + sum(stage_time_ms)\n",
    "\n",
    "    return total_time / 1000\n",
    "    \n",
    "    "
   ]
  },
  {
   "cell_type": "code",
   "execution_count": 11,
   "metadata": {},
   "outputs": [
    {
     "name": "stdout",
     "output_type": "stream",
     "text": [
      "balance_time: 1976.606121898803, imbalance_time: 1141.1288945648191\n"
     ]
    }
   ],
   "source": [
    "gbs = 1024\n",
    "mbs = 1\n",
    "nums_of_mbs = gbs / mbs\n",
    "balance_time = pp_iteration_time(balance_stage_time, nums_of_mbs)\n",
    "\n",
    "imbalance_time = pp_iteration_time(imbalance_stage_time, nums_of_mbs)\n",
    "print(f\"balance_time: {balance_time}, imbalance_time: {imbalance_time}\")"
   ]
  },
  {
   "cell_type": "markdown",
   "metadata": {},
   "source": [
    "读取数据后，计算不同配置下的运行时间"
   ]
  },
  {
   "cell_type": "code",
   "execution_count": 23,
   "metadata": {},
   "outputs": [],
   "source": [
    "\n",
    "def split_to_powers_of_two(n:int) -> List[int]:\n",
    "    powers = []\n",
    "    while n > 0:\n",
    "        power = 1\n",
    "        while power * 2 <= n:\n",
    "            power *= 2\n",
    "        powers.append(power)\n",
    "        n -= power\n",
    "    return powers\n",
    "\n",
    "def get_iteration_time_per_mbs(model_compute: Dict[str, Dict[int, List[float]]], device: str, bs: int) -> int:\n",
    "    '''\n",
    "    Return the iteration time. Unit s.\n",
    "    '''\n",
    "    splited_bs = split_to_powers_of_two(bs)\n",
    "    total_time = 0\n",
    "    for bs in splited_bs:\n",
    "        total_time += sum(model_compute[device][bs]) / 1000\n",
    "    \n",
    "    return total_time\n",
    "    \n",
    "\n",
    "\n"
   ]
  },
  {
   "cell_type": "code",
   "execution_count": 24,
   "metadata": {},
   "outputs": [
    {
     "name": "stdout",
     "output_type": "stream",
     "text": [
      "balance: 1969.4212168749982, imbalance: 980.8172337500004\n"
     ]
    }
   ],
   "source": [
    "balance_time_per_mbs = max(get_iteration_time_per_mbs(model_compute, \"A10G\", 2), get_iteration_time_per_mbs(model_compute, \"L40S\", 2))\n",
    "imbalance_time_per_mbs = max(get_iteration_time_per_mbs(model_compute, \"A10G\", 1), get_iteration_time_per_mbs(model_compute, \"L40S\", 3))\n",
    "gbs = 1024\n",
    "mbs = 4\n",
    "balance_time = balance_time_per_mbs * gbs / mbs\n",
    "imbalance_time = imbalance_time_per_mbs * gbs / mbs\n",
    "print(f\"balance: {balance_time}, imbalance: {imbalance_time}\")"
   ]
  }
 ],
 "metadata": {
  "kernelspec": {
   "display_name": "Python 3",
   "language": "python",
   "name": "python3"
  },
  "language_info": {
   "codemirror_mode": {
    "name": "ipython",
    "version": 3
   },
   "file_extension": ".py",
   "mimetype": "text/x-python",
   "name": "python",
   "nbconvert_exporter": "python",
   "pygments_lexer": "ipython3",
   "version": "3.10.12"
  }
 },
 "nbformat": 4,
 "nbformat_minor": 2
}
